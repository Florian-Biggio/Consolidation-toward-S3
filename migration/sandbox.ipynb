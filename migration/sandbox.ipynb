{
 "cells": [
  {
   "cell_type": "code",
   "execution_count": 12,
   "metadata": {},
   "outputs": [],
   "source": [
    "import json\n",
    "\n",
    "with open('schema.json', 'r', encoding='utf-8') as schema_file:\n",
    "    validation_schema = json.load(schema_file)\n"
   ]
  },
  {
   "cell_type": "code",
   "execution_count": 13,
   "metadata": {},
   "outputs": [
    {
     "data": {
      "text/plain": [
       "{'$jsonSchema': {'bsonType': 'object',\n",
       "  'required': ['_id',\n",
       "   'station',\n",
       "   'datetime',\n",
       "   'temperature_°C',\n",
       "   'dew_point_°C',\n",
       "   'humidity_%',\n",
       "   'wind_dir',\n",
       "   'wind_speed_kph',\n",
       "   'wind_gust_kph',\n",
       "   'pressure_hPa',\n",
       "   'precip_rate_mm/hr',\n",
       "   'solar_w/m²'],\n",
       "  'properties': {'_id': {'bsonType': 'objectId',\n",
       "    'description': 'The unique identifier for the document (required)'},\n",
       "   'station': {'bsonType': 'string',\n",
       "    'description': 'Station name, must be a string (required)'},\n",
       "   'id_station': {'bsonType': 'string',\n",
       "    'description': 'Station ID, must be a string'},\n",
       "   'datetime': {'bsonType': 'date',\n",
       "    'description': 'Datetime of the reading (required)'},\n",
       "   'temperature_°C': {'bsonType': 'double',\n",
       "    'description': 'Temperature in Celsius, must be a number (required)'},\n",
       "   'dew_point_°C': {'bsonType': 'double',\n",
       "    'description': 'Dew point in Celsius, must be a number (required)'},\n",
       "   'humidity_%': {'bsonType': 'int',\n",
       "    'description': 'Humidity percentage, must be a number (required)'},\n",
       "   'wind_dir': {'bsonType': 'int',\n",
       "    'description': 'Wind direction in degrees (0 to 360), must be an integer (required)'},\n",
       "   'wind_speed_kph': {'bsonType': 'double',\n",
       "    'description': 'Average wind speed in m/s, must be a number (required)'},\n",
       "   'wind_gust_kph': {'bsonType': ['double', 'null'],\n",
       "    'description': 'Wind gust speed in m/s, can be null if data not available'},\n",
       "   'pressure_hPa': {'bsonType': 'double',\n",
       "    'description': 'Pressure in hPa, must be a number (required)'},\n",
       "   'precip_rate_mm/hr': {'bsonType': 'double',\n",
       "    'description': 'Rainfall in the last 1 hour, must be a number (required)'},\n",
       "   'precip_rate_mm/hr (3hrs)': {'bsonType': ['double', 'null'],\n",
       "    'description': 'Rainfall in the last 3 hours, can be null if data not available'},\n",
       "   'precip_accum_mm': {'bsonType': ['double', 'null'], 'description': ''},\n",
       "   'snow_depth_mm': {'bsonType': ['double', 'null'],\n",
       "    'description': 'Snow on the ground, can be null if data not available'},\n",
       "   'visibility_m': {'bsonType': ['double', 'null'],\n",
       "    'description': 'Visibility in meters, can be null if data not available'},\n",
       "   'cloud_coverage': {'bsonType': 'string',\n",
       "    'description': 'Cloudiness, can be an empty string if no data'},\n",
       "   'solar_w/m²': {'bsonType': ['string', 'null'], 'description': ''}}}}"
      ]
     },
     "execution_count": 13,
     "metadata": {},
     "output_type": "execute_result"
    }
   ],
   "source": [
    "validation_schema"
   ]
  }
 ],
 "metadata": {
  "kernelspec": {
   "display_name": "Python 3",
   "language": "python",
   "name": "python3"
  },
  "language_info": {
   "codemirror_mode": {
    "name": "ipython",
    "version": 3
   },
   "file_extension": ".py",
   "mimetype": "text/x-python",
   "name": "python",
   "nbconvert_exporter": "python",
   "pygments_lexer": "ipython3",
   "version": "3.13.1"
  }
 },
 "nbformat": 4,
 "nbformat_minor": 2
}
