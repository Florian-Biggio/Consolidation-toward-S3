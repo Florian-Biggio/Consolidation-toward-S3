{
 "cells": [
  {
   "cell_type": "code",
   "execution_count": 9,
   "metadata": {},
   "outputs": [],
   "source": [
    "import requests\n",
    "import pandas as pd\n",
    "import boto3 as bt\n",
    "import json"
   ]
  },
  {
   "cell_type": "code",
   "execution_count": 10,
   "metadata": {},
   "outputs": [],
   "source": [
    "# Function to load the secrets from the local file\n",
    "def load_secrets(file_path):\n",
    "    with open(file_path, 'r') as file:\n",
    "        return json.load(file)\n",
    "secrets = load_secrets('secrets.json')\n",
    "\n",
    "aws_access_key_id = secrets['AWS_ACCESS_KEY_ID']\n",
    "aws_secret_access_key = secrets['AWS_SECRET_ACCESS_KEY']\n",
    "aws_region = secrets['AWS_REGION']"
   ]
  },
  {
   "cell_type": "code",
   "execution_count": 15,
   "metadata": {},
   "outputs": [],
   "source": [
    "client = bt.client(\n",
    "    's3', aws_access_key_id=aws_access_key_id,\n",
    "          aws_secret_access_key=aws_secret_access_key\n",
    ")\n",
    "\n",
    "bucket = \"greencoop-airbyte\"\n",
    "path = \"C:/Users/Dev/Desktop/OpenClassrooms/Project8/Construisez et_testez_une_infrastructure_de_données/data/Weather+Underground+-+Ichtegem,+BE.xlsx\"\n",
    "\n",
    "client.upload_file(path, bucket, \"greencoop-airbyte/Ichtegem.xlsx\")"
   ]
  },
  {
   "cell_type": "code",
   "execution_count": 13,
   "metadata": {},
   "outputs": [],
   "source": [
    "path = \"C:/Users/Dev/Desktop/OpenClassrooms/Project8/Construisez et_testez_une_infrastructure_de_données/data/Weather+Underground+-+La+Madeleine,+FR.xlsx\"\n",
    "client.upload_file(path, bucket, \"greencoop-airbyte/La8Madeleine8FR.xlsx\")"
   ]
  },
  {
   "cell_type": "code",
   "execution_count": null,
   "metadata": {},
   "outputs": [],
   "source": [
    "r = requests.get(\"https://dummyjson.com/products\")\n",
    "json_products = pd.DataFrame(r.json()[\"products\"])\n",
    "file_s3 = json_products.to_csv(\"Orders.csv\", index=False)\n"
   ]
  }
 ],
 "metadata": {
  "kernelspec": {
   "display_name": "Python 3",
   "language": "python",
   "name": "python3"
  },
  "language_info": {
   "codemirror_mode": {
    "name": "ipython",
    "version": 3
   },
   "file_extension": ".py",
   "mimetype": "text/x-python",
   "name": "python",
   "nbconvert_exporter": "python",
   "pygments_lexer": "ipython3",
   "version": "3.13.1"
  }
 },
 "nbformat": 4,
 "nbformat_minor": 2
}
